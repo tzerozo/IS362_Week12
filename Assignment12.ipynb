{
 "cells": [
  {
   "cell_type": "markdown",
   "id": "0adb5f1b",
   "metadata": {},
   "source": [
    "LANG TUANG | IS362 | WEEK12 | NOV 13,2021"
   ]
  },
  {
   "cell_type": "markdown",
   "id": "785e04fb",
   "metadata": {},
   "source": [
    "https://archive.ics.uci.edu/ml/datasets/Mushroom\n",
    "Task1: study dataset and associated description of the data (i.e \"data dictionary\")\n",
    "Task2: create Pandas DataFrame with subset of columns in the dataset.\n",
    "Include column that indicate edible or poisonous, odor, and at least one other column of your choosing.\n",
    "Task3: add meaningful names for each column.\n",
    "Task4: Replace codes used in data with numeric values. (i.e. in the first \"target\"column, \"e\" might become\"0\", \"p\" \"1\".\n",
    "It's because your downstream processing in Project 4 using \"scikit-learn\" requires taht values be stored as numerics.\n",
    "Task5: Perform exploratory data analysis: show distribution of data for each columns you selected and \n",
    "Show scatterplots for edible/poisonous vs odor, as well as other column that you selected.\n",
    "Task6: Include some text describing your preliminary conclusions about whether either of the other columns could be helpful in predicting if a specific mushroom is edible or poisonous."
   ]
  },
  {
   "cell_type": "markdown",
   "id": "558291f9",
   "metadata": {},
   "source": [
    "Task1: https://archive.ics.uci.edu/ml/machine-learning-databases/mushroom/agaricus-lepiota.names\n",
    "Open and study the above \"dataset names file\" in Notepad.\n",
    "https://archive.ics.uci.edu/ml/machine-learning-databases/mushroom/agaricus-lepiota.data\n",
    "Column0:EdibleorPoisonous(e,p)\n",
    "Column5:Odor(almond=a,anise=l,creosote=c,fishy=y,foul=f,musty=m,none=n,pungent=p,spicy=s)\n",
    "Column21:Population(abundant=a,clustered=c,numerous=n,scattered=s,several=v,solitary=y)"
   ]
  },
  {
   "cell_type": "code",
   "execution_count": 26,
   "id": "4120d5d0",
   "metadata": {},
   "outputs": [],
   "source": [
    "import pandas as pan\n",
    "import numpy as num\n",
    "import seaborn as sea\n",
    "from matplotlib import pyplot as plt"
   ]
  },
  {
   "cell_type": "markdown",
   "id": "2eda0401",
   "metadata": {},
   "source": [
    "Task2.1: Create Pandas DataFrame."
   ]
  },
  {
   "cell_type": "code",
   "execution_count": 31,
   "id": "1c522d08",
   "metadata": {},
   "outputs": [],
   "source": [
    "mushroom = pan.read_csv('https://archive.ics.uci.edu/ml/machine-learning-databases/mushroom/agaricus-lepiota.data',header=None)"
   ]
  },
  {
   "cell_type": "code",
   "execution_count": 32,
   "id": "0c84ecff",
   "metadata": {},
   "outputs": [
    {
     "data": {
      "text/html": [
       "<div>\n",
       "<style scoped>\n",
       "    .dataframe tbody tr th:only-of-type {\n",
       "        vertical-align: middle;\n",
       "    }\n",
       "\n",
       "    .dataframe tbody tr th {\n",
       "        vertical-align: top;\n",
       "    }\n",
       "\n",
       "    .dataframe thead th {\n",
       "        text-align: right;\n",
       "    }\n",
       "</style>\n",
       "<table border=\"1\" class=\"dataframe\">\n",
       "  <thead>\n",
       "    <tr style=\"text-align: right;\">\n",
       "      <th></th>\n",
       "      <th>0</th>\n",
       "      <th>1</th>\n",
       "      <th>2</th>\n",
       "      <th>3</th>\n",
       "      <th>4</th>\n",
       "      <th>5</th>\n",
       "      <th>6</th>\n",
       "      <th>7</th>\n",
       "      <th>8</th>\n",
       "      <th>9</th>\n",
       "      <th>...</th>\n",
       "      <th>13</th>\n",
       "      <th>14</th>\n",
       "      <th>15</th>\n",
       "      <th>16</th>\n",
       "      <th>17</th>\n",
       "      <th>18</th>\n",
       "      <th>19</th>\n",
       "      <th>20</th>\n",
       "      <th>21</th>\n",
       "      <th>22</th>\n",
       "    </tr>\n",
       "  </thead>\n",
       "  <tbody>\n",
       "    <tr>\n",
       "      <th>0</th>\n",
       "      <td>p</td>\n",
       "      <td>x</td>\n",
       "      <td>s</td>\n",
       "      <td>n</td>\n",
       "      <td>t</td>\n",
       "      <td>p</td>\n",
       "      <td>f</td>\n",
       "      <td>c</td>\n",
       "      <td>n</td>\n",
       "      <td>k</td>\n",
       "      <td>...</td>\n",
       "      <td>s</td>\n",
       "      <td>w</td>\n",
       "      <td>w</td>\n",
       "      <td>p</td>\n",
       "      <td>w</td>\n",
       "      <td>o</td>\n",
       "      <td>p</td>\n",
       "      <td>k</td>\n",
       "      <td>s</td>\n",
       "      <td>u</td>\n",
       "    </tr>\n",
       "    <tr>\n",
       "      <th>1</th>\n",
       "      <td>e</td>\n",
       "      <td>x</td>\n",
       "      <td>s</td>\n",
       "      <td>y</td>\n",
       "      <td>t</td>\n",
       "      <td>a</td>\n",
       "      <td>f</td>\n",
       "      <td>c</td>\n",
       "      <td>b</td>\n",
       "      <td>k</td>\n",
       "      <td>...</td>\n",
       "      <td>s</td>\n",
       "      <td>w</td>\n",
       "      <td>w</td>\n",
       "      <td>p</td>\n",
       "      <td>w</td>\n",
       "      <td>o</td>\n",
       "      <td>p</td>\n",
       "      <td>n</td>\n",
       "      <td>n</td>\n",
       "      <td>g</td>\n",
       "    </tr>\n",
       "    <tr>\n",
       "      <th>2</th>\n",
       "      <td>e</td>\n",
       "      <td>b</td>\n",
       "      <td>s</td>\n",
       "      <td>w</td>\n",
       "      <td>t</td>\n",
       "      <td>l</td>\n",
       "      <td>f</td>\n",
       "      <td>c</td>\n",
       "      <td>b</td>\n",
       "      <td>n</td>\n",
       "      <td>...</td>\n",
       "      <td>s</td>\n",
       "      <td>w</td>\n",
       "      <td>w</td>\n",
       "      <td>p</td>\n",
       "      <td>w</td>\n",
       "      <td>o</td>\n",
       "      <td>p</td>\n",
       "      <td>n</td>\n",
       "      <td>n</td>\n",
       "      <td>m</td>\n",
       "    </tr>\n",
       "    <tr>\n",
       "      <th>3</th>\n",
       "      <td>p</td>\n",
       "      <td>x</td>\n",
       "      <td>y</td>\n",
       "      <td>w</td>\n",
       "      <td>t</td>\n",
       "      <td>p</td>\n",
       "      <td>f</td>\n",
       "      <td>c</td>\n",
       "      <td>n</td>\n",
       "      <td>n</td>\n",
       "      <td>...</td>\n",
       "      <td>s</td>\n",
       "      <td>w</td>\n",
       "      <td>w</td>\n",
       "      <td>p</td>\n",
       "      <td>w</td>\n",
       "      <td>o</td>\n",
       "      <td>p</td>\n",
       "      <td>k</td>\n",
       "      <td>s</td>\n",
       "      <td>u</td>\n",
       "    </tr>\n",
       "    <tr>\n",
       "      <th>4</th>\n",
       "      <td>e</td>\n",
       "      <td>x</td>\n",
       "      <td>s</td>\n",
       "      <td>g</td>\n",
       "      <td>f</td>\n",
       "      <td>n</td>\n",
       "      <td>f</td>\n",
       "      <td>w</td>\n",
       "      <td>b</td>\n",
       "      <td>k</td>\n",
       "      <td>...</td>\n",
       "      <td>s</td>\n",
       "      <td>w</td>\n",
       "      <td>w</td>\n",
       "      <td>p</td>\n",
       "      <td>w</td>\n",
       "      <td>o</td>\n",
       "      <td>e</td>\n",
       "      <td>n</td>\n",
       "      <td>a</td>\n",
       "      <td>g</td>\n",
       "    </tr>\n",
       "  </tbody>\n",
       "</table>\n",
       "<p>5 rows × 23 columns</p>\n",
       "</div>"
      ],
      "text/plain": [
       "  0  1  2  3  4  5  6  7  8  9   ... 13 14 15 16 17 18 19 20 21 22\n",
       "0  p  x  s  n  t  p  f  c  n  k  ...  s  w  w  p  w  o  p  k  s  u\n",
       "1  e  x  s  y  t  a  f  c  b  k  ...  s  w  w  p  w  o  p  n  n  g\n",
       "2  e  b  s  w  t  l  f  c  b  n  ...  s  w  w  p  w  o  p  n  n  m\n",
       "3  p  x  y  w  t  p  f  c  n  n  ...  s  w  w  p  w  o  p  k  s  u\n",
       "4  e  x  s  g  f  n  f  w  b  k  ...  s  w  w  p  w  o  e  n  a  g\n",
       "\n",
       "[5 rows x 23 columns]"
      ]
     },
     "execution_count": 32,
     "metadata": {},
     "output_type": "execute_result"
    }
   ],
   "source": [
    "mushroom.head()"
   ]
  },
  {
   "cell_type": "markdown",
   "id": "c4086969",
   "metadata": {},
   "source": [
    "Task2.2:Include column that indicate edible or poisonous, odor, and at least one other column of your choosing.\n",
    "Task3: add meaningful names for each column."
   ]
  },
  {
   "cell_type": "code",
   "execution_count": 44,
   "id": "529b2634",
   "metadata": {},
   "outputs": [],
   "source": [
    "mushroom = pan.read_csv('https://archive.ics.uci.edu/ml/machine-learning-databases/mushroom/agaricus-lepiota.data',sep=',',header=None,usecols=[0,5,21],names = ['EDIBLEorPOISONOUS','ODOR','POPULATION'])"
   ]
  },
  {
   "cell_type": "code",
   "execution_count": 45,
   "id": "0aabdafa",
   "metadata": {},
   "outputs": [
    {
     "data": {
      "text/html": [
       "<div>\n",
       "<style scoped>\n",
       "    .dataframe tbody tr th:only-of-type {\n",
       "        vertical-align: middle;\n",
       "    }\n",
       "\n",
       "    .dataframe tbody tr th {\n",
       "        vertical-align: top;\n",
       "    }\n",
       "\n",
       "    .dataframe thead th {\n",
       "        text-align: right;\n",
       "    }\n",
       "</style>\n",
       "<table border=\"1\" class=\"dataframe\">\n",
       "  <thead>\n",
       "    <tr style=\"text-align: right;\">\n",
       "      <th></th>\n",
       "      <th>EDIBLEorPOISONOUS</th>\n",
       "      <th>ODOR</th>\n",
       "      <th>POPULATION</th>\n",
       "    </tr>\n",
       "  </thead>\n",
       "  <tbody>\n",
       "    <tr>\n",
       "      <th>0</th>\n",
       "      <td>p</td>\n",
       "      <td>p</td>\n",
       "      <td>s</td>\n",
       "    </tr>\n",
       "    <tr>\n",
       "      <th>1</th>\n",
       "      <td>e</td>\n",
       "      <td>a</td>\n",
       "      <td>n</td>\n",
       "    </tr>\n",
       "    <tr>\n",
       "      <th>2</th>\n",
       "      <td>e</td>\n",
       "      <td>l</td>\n",
       "      <td>n</td>\n",
       "    </tr>\n",
       "    <tr>\n",
       "      <th>3</th>\n",
       "      <td>p</td>\n",
       "      <td>p</td>\n",
       "      <td>s</td>\n",
       "    </tr>\n",
       "    <tr>\n",
       "      <th>4</th>\n",
       "      <td>e</td>\n",
       "      <td>n</td>\n",
       "      <td>a</td>\n",
       "    </tr>\n",
       "  </tbody>\n",
       "</table>\n",
       "</div>"
      ],
      "text/plain": [
       "  EDIBLEorPOISONOUS ODOR POPULATION\n",
       "0                 p    p          s\n",
       "1                 e    a          n\n",
       "2                 e    l          n\n",
       "3                 p    p          s\n",
       "4                 e    n          a"
      ]
     },
     "execution_count": 45,
     "metadata": {},
     "output_type": "execute_result"
    }
   ],
   "source": [
    "mushroom.head()"
   ]
  },
  {
   "cell_type": "markdown",
   "id": "5a6b9c43",
   "metadata": {},
   "source": [
    "Task4: Replace codes used in data with numeric values. (i.e. in the first \"target\"column, \"e\" might become\"0\", \"p\" \"1\"."
   ]
  },
  {
   "cell_type": "code",
   "execution_count": 46,
   "id": "67cc1950",
   "metadata": {},
   "outputs": [],
   "source": [
    "mushroom['EDIBLEorPOISONOUS'].replace({'e':0, 'p': 1}, inplace=True)\n",
    "mushroom['ODOR'].replace({'a':0, 'l':1, 'c':2, 'y':3, 'f':4, 'm':5, 'n':6, 'p':7, 's':8}, inplace=True)\n",
    "mushroom['POPULATION'].replace({'a':0, 'c':1, 'n':2, 's':3, 'v':4, 'y':5}, inplace=True)"
   ]
  },
  {
   "cell_type": "code",
   "execution_count": 47,
   "id": "26c6f36c",
   "metadata": {},
   "outputs": [
    {
     "data": {
      "text/html": [
       "<div>\n",
       "<style scoped>\n",
       "    .dataframe tbody tr th:only-of-type {\n",
       "        vertical-align: middle;\n",
       "    }\n",
       "\n",
       "    .dataframe tbody tr th {\n",
       "        vertical-align: top;\n",
       "    }\n",
       "\n",
       "    .dataframe thead th {\n",
       "        text-align: right;\n",
       "    }\n",
       "</style>\n",
       "<table border=\"1\" class=\"dataframe\">\n",
       "  <thead>\n",
       "    <tr style=\"text-align: right;\">\n",
       "      <th></th>\n",
       "      <th>EDIBLEorPOISONOUS</th>\n",
       "      <th>ODOR</th>\n",
       "      <th>POPULATION</th>\n",
       "    </tr>\n",
       "  </thead>\n",
       "  <tbody>\n",
       "    <tr>\n",
       "      <th>0</th>\n",
       "      <td>1</td>\n",
       "      <td>7</td>\n",
       "      <td>3</td>\n",
       "    </tr>\n",
       "    <tr>\n",
       "      <th>1</th>\n",
       "      <td>0</td>\n",
       "      <td>0</td>\n",
       "      <td>2</td>\n",
       "    </tr>\n",
       "    <tr>\n",
       "      <th>2</th>\n",
       "      <td>0</td>\n",
       "      <td>1</td>\n",
       "      <td>2</td>\n",
       "    </tr>\n",
       "    <tr>\n",
       "      <th>3</th>\n",
       "      <td>1</td>\n",
       "      <td>7</td>\n",
       "      <td>3</td>\n",
       "    </tr>\n",
       "    <tr>\n",
       "      <th>4</th>\n",
       "      <td>0</td>\n",
       "      <td>6</td>\n",
       "      <td>0</td>\n",
       "    </tr>\n",
       "  </tbody>\n",
       "</table>\n",
       "</div>"
      ],
      "text/plain": [
       "   EDIBLEorPOISONOUS  ODOR  POPULATION\n",
       "0                  1     7           3\n",
       "1                  0     0           2\n",
       "2                  0     1           2\n",
       "3                  1     7           3\n",
       "4                  0     6           0"
      ]
     },
     "execution_count": 47,
     "metadata": {},
     "output_type": "execute_result"
    }
   ],
   "source": [
    "mushroom.head()"
   ]
  },
  {
   "cell_type": "markdown",
   "id": "e70d876f",
   "metadata": {},
   "source": [
    "Task5: Perform exploratory data analysis: show distribution of data for each columns you selected AND \n",
    "Show scatterplots for edible/poisonous vs odor, as well as other column that you selected."
   ]
  },
  {
   "cell_type": "markdown",
   "id": "cc2f16c2",
   "metadata": {},
   "source": [
    "Task5.1: Column0, Counting amount of \"edible vs poisonous\""
   ]
  },
  {
   "cell_type": "code",
   "execution_count": 48,
   "id": "72b8d432",
   "metadata": {},
   "outputs": [
    {
     "data": {
      "text/plain": [
       "0    4208\n",
       "1    3916\n",
       "Name: EDIBLEorPOISONOUS, dtype: int64"
      ]
     },
     "execution_count": 48,
     "metadata": {},
     "output_type": "execute_result"
    }
   ],
   "source": [
    "mushroom.EDIBLEorPOISONOUS.value_counts()"
   ]
  },
  {
   "cell_type": "markdown",
   "id": "32e2f928",
   "metadata": {},
   "source": [
    "Task5.2: Column5, Counting amount of ODOR column"
   ]
  },
  {
   "cell_type": "code",
   "execution_count": 49,
   "id": "7f537061",
   "metadata": {},
   "outputs": [
    {
     "data": {
      "text/plain": [
       "6    3528\n",
       "4    2160\n",
       "8     576\n",
       "3     576\n",
       "0     400\n",
       "1     400\n",
       "7     256\n",
       "2     192\n",
       "5      36\n",
       "Name: ODOR, dtype: int64"
      ]
     },
     "execution_count": 49,
     "metadata": {},
     "output_type": "execute_result"
    }
   ],
   "source": [
    "mushroom.ODOR.value_counts()"
   ]
  },
  {
   "cell_type": "markdown",
   "id": "4914456b",
   "metadata": {},
   "source": [
    "Task5.3: Column21, Counting amount of POPULATION column"
   ]
  },
  {
   "cell_type": "code",
   "execution_count": 50,
   "id": "c4db4982",
   "metadata": {},
   "outputs": [
    {
     "data": {
      "text/plain": [
       "4    4040\n",
       "5    1712\n",
       "3    1248\n",
       "2     400\n",
       "0     384\n",
       "1     340\n",
       "Name: POPULATION, dtype: int64"
      ]
     },
     "execution_count": 50,
     "metadata": {},
     "output_type": "execute_result"
    }
   ],
   "source": [
    "mushroom.POPULATION.value_counts()"
   ]
  },
  {
   "cell_type": "markdown",
   "id": "795b8c42",
   "metadata": {},
   "source": [
    "Task5.4: Show scatterplots for edible/poisonous vs odor, as well as other column that you selected."
   ]
  },
  {
   "cell_type": "code",
   "execution_count": 51,
   "id": "522d67a8",
   "metadata": {},
   "outputs": [
    {
     "data": {
      "text/plain": [
       "<AxesSubplot:xlabel='POPULATION', ylabel='ODOR'>"
      ]
     },
     "execution_count": 51,
     "metadata": {},
     "output_type": "execute_result"
    },
    {
     "data": {
      "image/png": "[encoded data removed]",
      "text/plain": [
       "<Figure size 432x288 with 1 Axes>"
      ]
     },
     "metadata": {
      "needs_background": "light"
     },
     "output_type": "display_data"
    }
   ],
   "source": [
    "sea.scatterplot(data=mushroom, x=\"POPULATION\", y=\"ODOR\", hue=\"EDIBLEorPOISONOUS\")"
   ]
  },
  {
   "cell_type": "markdown",
   "id": "a94c66a5",
   "metadata": {},
   "source": [
    "Task6: Include some text describing your preliminary conclusions about whether either of the other columns could be helpful in predicting if a specific mushroom is edible or poisonous."
   ]
  },
  {
   "cell_type": "markdown",
   "id": "86cc7855",
   "metadata": {},
   "source": [
    "CONCLUSION:\n",
    "1. ODOR is a good way to determine if the mushroom is \"EDIBLE or POISONOUS\".\n",
    "2. ODOR numeric 0:Almond,1:Anise,6:None are all Edible.\n",
    "3. POPULATION is also useful to determine the editable feature of mushroom when combining with the ODOR information. "
   ]
  }
 ],
 "metadata": {
  "kernelspec": {
   "display_name": "Python 3",
   "language": "python",
   "name": "python3"
  },
  "language_info": {
   "codemirror_mode": {
    "name": "ipython",
    "version": 3
   },
   "file_extension": ".py",
   "mimetype": "text/x-python",
   "name": "python",
   "nbconvert_exporter": "python",
   "pygments_lexer": "ipython3",
   "version": "3.8.8"
  }
 },
 "nbformat": 4,
 "nbformat_minor": 5
}
